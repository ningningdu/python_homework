{
 "cells": [
  {
   "cell_type": "code",
   "execution_count": 18,
   "metadata": {
    "scrolled": true
   },
   "outputs": [
    {
     "name": "stdout",
     "output_type": "stream",
     "text": [
      "Header: ['Voter ID', 'County', 'Candidate']\n",
      "Election Results\n",
      "---------------------------\n",
      "Total Votes: 3521001\n",
      "---------------------------\n",
      "Khan: 63.000%(2218231)\n",
      "Correy: 20.000%(704200)\n",
      "Li: 14.000%(492940)\n",
      "O'Tooley: 3.000%(105630)\n",
      "Winner:Khan\n"
     ]
    }
   ],
   "source": [
    "import os\n",
    "import csv\n",
    "voter_id=[]\n",
    "county=[]\n",
    "candidate=[]\n",
    "unique=[]\n",
    "unique_count=[]\n",
    "file=open(\"PyPoll.txt\",'w')\n",
    "csvpath=os.path.join(\"Instructions\",\"PyPoll\",\"Resources\",\"election_data.csv\")\n",
    "with open(csvpath) as csvfile:\n",
    "    csvreader=csv.reader(csvfile)\n",
    "#    print(csvreader)\n",
    "    csvheader=next(csvreader)  \n",
    "    print(f\"Header: {csvheader}\")\n",
    "\n",
    "    n=0\n",
    "    for row in csvreader:\n",
    "#        print(row)\n",
    "        if(row[0] is not \"\"):\n",
    "            voter_id.append(row[0])\n",
    "            county.append(row[1])\n",
    "            candidate.append(row[2])\n",
    "            n=n+1\n",
    "#print(voter_id)\n",
    "#print(county)\n",
    "#print(candidate)\n",
    "#print(n)\n",
    "print(f\"Election Results\")\n",
    "print(\"---------------------------\")\n",
    "print(f\"Total Votes: {n}\")\n",
    "print(\"---------------------------\")\n",
    "\n",
    "file.write(f\"Election Results\\n\")\n",
    "file.write(\"---------------------------\\n\")\n",
    "file.write(f\"Total Votes: {n}\\n\")\n",
    "file.write(\"---------------------------\\n\")\n",
    "\n",
    "for x in candidate:\n",
    "    if x not in unique:\n",
    "        unique.append(x)\n",
    "\n",
    "\n",
    "\n",
    "for y in unique:\n",
    "    ind=unique.index(y)\n",
    "    unique_count.append(0)\n",
    "#    print(ind)\n",
    "    for x in candidate:\n",
    "        if x==y:\n",
    "            unique_count[ind]=unique_count[ind]+1\n",
    "\n",
    "\n",
    "    print(f\"{y}: {100*unique_count[ind]/n:.3f}%({unique_count[ind]})\")\n",
    "    file.write(f\"{y}: {100*unique_count[ind]/n:.3f}%({unique_count[ind]})\\n\")\n",
    "\n",
    "print(f\"Winner:{unique[unique_count.index(max(unique_count))]}\")\n",
    "file.write(f\"Winner:{unique[unique_count.index(max(unique_count))]}\\n\")\n",
    "\n",
    "\n",
    "file.close()\n",
    "           "
   ]
  },
  {
   "cell_type": "code",
   "execution_count": null,
   "metadata": {},
   "outputs": [],
   "source": []
  }
 ],
 "metadata": {
  "kernelspec": {
   "display_name": "Python 3",
   "language": "python",
   "name": "python3"
  },
  "language_info": {
   "codemirror_mode": {
    "name": "ipython",
    "version": 3
   },
   "file_extension": ".py",
   "mimetype": "text/x-python",
   "name": "python",
   "nbconvert_exporter": "python",
   "pygments_lexer": "ipython3",
   "version": "3.7.4"
  }
 },
 "nbformat": 4,
 "nbformat_minor": 2
}
