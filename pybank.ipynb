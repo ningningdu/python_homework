{
 "cells": [
  {
   "cell_type": "code",
   "execution_count": 18,
   "metadata": {},
   "outputs": [
    {
     "name": "stdout",
     "output_type": "stream",
     "text": [
      "-2315.1176470588234\n",
      "Total Months: 86\n",
      "Total: $38382578\n",
      "Average Change: $-2315.12\n",
      "Greatest Increase in Profit: Feb-2012 ($1926159)\n",
      "Greatest Decrease in Profit: Sep-2013 ($-2196167)\n"
     ]
    }
   ],
   "source": [
    "import os\n",
    "import csv\n",
    "row_content=[]\n",
    "date=[]\n",
    "PL=[]\n",
    "change=[]\n",
    "\n",
    "file=open(\"PyBank.txt\",'w')\n",
    "csvpath=os.path.join(\"Instructions\",\"pyBank\",\"Resources\",\"budget_data.csv\")\n",
    "with open(csvpath) as csvfile:\n",
    "    csvreader=csv.reader(csvfile)\n",
    "#    print(csvreader)\n",
    "    csvheader=next(csvreader)  \n",
    "#    print(f\"Header: {csvheader}\")\n",
    "    n=0\n",
    "    total=0\n",
    "#    print(PL)\n",
    "    for row in csvreader:\n",
    "#        print(row)\n",
    "        date.append(row[0])\n",
    "        PL.append(float(row[1]))\n",
    "        n=n+1\n",
    "        total=total + float(row[1])\n",
    "#print(PL)\n",
    "#print(n)\n",
    "#print(date)\n",
    "\n",
    "change.append(0)\n",
    "total_change=0.0\n",
    "for i in range(1,n):\n",
    "    change.append(PL[i]-PL[i-1])\n",
    "\n",
    "\n",
    "#print(list(range(n)))\n",
    "#print(change)\n",
    "#print(len(change))\n",
    "for i in range(n):\n",
    "#    print(i) \n",
    "#    print(change[i])\n",
    "    total_change=total_change+change[i]\n",
    "    \n",
    "average_change=total_change/(n-1)\n",
    "    \n",
    "#print(change)\n",
    "\n",
    "\n",
    "\n",
    "    \n",
    "ind_min=change.index(min(change))\n",
    "ind_max=change.index(max(change))\n",
    "\n",
    "print(average_change)\n",
    "        \n",
    "print(f\"Total Months: {n}\")\n",
    "print(f\"Total: ${total:.0f}\")\n",
    "print(f\"Average Change: ${average_change:.2f}\")\n",
    "print(f\"Greatest Increase in Profit: {date[ind_max]} (${max(change):.0f})\")\n",
    "print(f\"Greatest Decrease in Profit: {date[ind_min]} (${min(change):.0f})\")\n",
    "\n",
    "file.write(f\"Total Months: {n}\\n\")\n",
    "file.write(f\"Total: ${total:.0f}\\n\")\n",
    "file.write(f\"Average Change: ${average_change:.2f}\\n\")\n",
    "file.write(f\"Greatest Increase in Profit: {date[ind_max]} (${max(change):.0f})\\n\")\n",
    "file.write(f\"Greatest Decrease in Profit: {date[ind_min]} (${min(change):.0f})\\n\")\n",
    "file.close()"
   ]
  },
  {
   "cell_type": "code",
   "execution_count": null,
   "metadata": {},
   "outputs": [],
   "source": []
  }
 ],
 "metadata": {
  "kernelspec": {
   "display_name": "Python 3",
   "language": "python",
   "name": "python3"
  },
  "language_info": {
   "codemirror_mode": {
    "name": "ipython",
    "version": 3
   },
   "file_extension": ".py",
   "mimetype": "text/x-python",
   "name": "python",
   "nbconvert_exporter": "python",
   "pygments_lexer": "ipython3",
   "version": "3.7.4"
  }
 },
 "nbformat": 4,
 "nbformat_minor": 2
}
